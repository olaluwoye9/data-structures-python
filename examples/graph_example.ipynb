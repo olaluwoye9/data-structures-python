{
 "cells": [
  {
   "cell_type": "code",
   "execution_count": 1,
   "metadata": {},
   "outputs": [
    {
     "name": "stdout",
     "output_type": "stream",
     "text": [
      "Graph after adding vertices and edges:\n",
      "A : ['B', 'C']\n",
      "B : ['A', 'C']\n",
      "C : ['A', 'B']\n",
      "\n",
      "Graph after removing edge A-B:\n",
      "A : ['C']\n",
      "B : ['C']\n",
      "C : ['A', 'B']\n",
      "\n",
      "Graph after removing vertex C:\n",
      "A : []\n",
      "B : []\n"
     ]
    }
   ],
   "source": [
    "import sys\n",
    "import os\n",
    "sys.path.append(os.path.abspath(\"..\"))\n",
    "\n",
    "from data_structures.graph import Graph\n",
    "\n",
    "g = Graph()\n",
    "\n",
    "g.add_vertex(\"A\")\n",
    "g.add_vertex(\"B\")\n",
    "g.add_vertex(\"C\")\n",
    "\n",
    "g.add_edge(\"A\", \"B\")\n",
    "g.add_edge(\"A\", \"C\")\n",
    "g.add_edge(\"B\", \"C\")\n",
    "\n",
    "print(\"Graph after adding vertices and edges:\")\n",
    "g.display()\n",
    "\n",
    "g.remove_edge(\"A\", \"B\")\n",
    "print(\"\\nGraph after removing edge A-B:\")\n",
    "g.display()\n",
    "\n",
    "g.remove_vertex(\"C\")\n",
    "print(\"\\nGraph after removing vertex C:\")\n",
    "g.display()\n"
   ]
  }
 ],
 "metadata": {
  "kernelspec": {
   "display_name": "3.13.2",
   "language": "python",
   "name": "python3"
  },
  "language_info": {
   "codemirror_mode": {
    "name": "ipython",
    "version": 3
   },
   "file_extension": ".py",
   "mimetype": "text/x-python",
   "name": "python",
   "nbconvert_exporter": "python",
   "pygments_lexer": "ipython3",
   "version": "3.13.2"
  }
 },
 "nbformat": 4,
 "nbformat_minor": 2
}
