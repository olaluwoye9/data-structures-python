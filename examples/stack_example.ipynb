{
 "cells": [
  {
   "cell_type": "code",
   "execution_count": 1,
   "metadata": {},
   "outputs": [
    {
     "name": "stdout",
     "output_type": "stream",
     "text": [
      "Stack after pushing: [5, 10]\n",
      "Peek top element: 10\n",
      "Popped element: 10\n",
      "Is stack empty? False\n",
      "Final Stack: [5]\n"
     ]
    }
   ],
   "source": [
    "import sys\n",
    "import os\n",
    "sys.path.append(os.path.abspath(\"..\"))\n",
    "\n",
    "from data_structures.stack import Stack\n",
    "\n",
    "s = Stack()\n",
    "s.push(5)\n",
    "s.push(10)\n",
    "print(\"Stack after pushing:\", s)\n",
    "\n",
    "top = s.peek()\n",
    "print(\"Peek top element:\", top)\n",
    "\n",
    "removed = s.pop()\n",
    "print(\"Popped element:\", removed)\n",
    "\n",
    "print(\"Is stack empty?\", s.is_empty())\n",
    "print(\"Final Stack:\", s)\n"
   ]
  },
  {
   "cell_type": "code",
   "execution_count": null,
   "metadata": {},
   "outputs": [],
   "source": []
  }
 ],
 "metadata": {
  "kernelspec": {
   "display_name": "3.13.2",
   "language": "python",
   "name": "python3"
  },
  "language_info": {
   "codemirror_mode": {
    "name": "ipython",
    "version": 3
   },
   "file_extension": ".py",
   "mimetype": "text/x-python",
   "name": "python",
   "nbconvert_exporter": "python",
   "pygments_lexer": "ipython3",
   "version": "3.13.2"
  }
 },
 "nbformat": 4,
 "nbformat_minor": 2
}
