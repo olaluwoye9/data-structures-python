{
 "cells": [
  {
   "cell_type": "code",
   "execution_count": 1,
   "metadata": {},
   "outputs": [
    {
     "name": "stdout",
     "output_type": "stream",
     "text": [
      "0 <--> 1 <--> 8 <--> 5 <--> 10 <--> NULL\n",
      "Length: 5\n",
      "Item at index 2: 8\n",
      "0 <--> 1 <--> 88 <--> 5 <--> 10 <--> NULL\n",
      "0 <--> 1 <--> 88 <--> 5 <--> NULL\n"
     ]
    }
   ],
   "source": [
    "import sys\n",
    "import os\n",
    "sys.path.append(os.path.abspath(\"..\"))\n",
    "\n",
    "from data_structures.doubly_linked_list import DoublyLinkedList\n",
    "\n",
    "dll = DoublyLinkedList()\n",
    "\n",
    "dll.insert_at_beginning(1)\n",
    "dll.insert_at_end(10)\n",
    "dll.insert_after(1, 5)\n",
    "dll.insert_at_beginning(0)\n",
    "dll.insert_at(2, 8)\n",
    "\n",
    "dll.display()\n",
    "\n",
    "print(\"Length:\", dll.get_length())         \n",
    "print(\"Item at index 2:\", dll.access(2))   \n",
    "\n",
    "dll.update(2, 88)\n",
    "dll.display()                              \n",
    "\n",
    "dll.delete_item(10)\n",
    "dll.display()\n"
   ]
  }
 ],
 "metadata": {
  "kernelspec": {
   "display_name": "3.13.2",
   "language": "python",
   "name": "python3"
  },
  "language_info": {
   "codemirror_mode": {
    "name": "ipython",
    "version": 3
   },
   "file_extension": ".py",
   "mimetype": "text/x-python",
   "name": "python",
   "nbconvert_exporter": "python",
   "pygments_lexer": "ipython3",
   "version": "3.13.2"
  }
 },
 "nbformat": 4,
 "nbformat_minor": 2
}
